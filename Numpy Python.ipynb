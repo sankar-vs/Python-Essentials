{
 "cells": [
  {
   "cell_type": "raw",
   "metadata": {},
   "source": [
    "Class-8"
   ]
  },
  {
   "cell_type": "markdown",
   "metadata": {},
   "source": [
    "# NUMPY - Numerical Python"
   ]
  },
  {
   "cell_type": "code",
   "execution_count": 2,
   "metadata": {},
   "outputs": [],
   "source": [
    "# Importing numpy\n",
    "import numpy as np"
   ]
  },
  {
   "cell_type": "code",
   "execution_count": 5,
   "metadata": {},
   "outputs": [
    {
     "data": {
      "text/plain": [
       "array([3, 4, 5, 6])"
      ]
     },
     "execution_count": 5,
     "metadata": {},
     "output_type": "execute_result"
    }
   ],
   "source": [
    "# Numpy array are homogeneous\n",
    "a = np.array([3,4,5,6])\n",
    "a"
   ]
  },
  {
   "cell_type": "code",
   "execution_count": 6,
   "metadata": {},
   "outputs": [
    {
     "name": "stdout",
     "output_type": "stream",
     "text": [
      "[3 4 5 6]\n",
      "Dimension :  1\n",
      "Size :  4\n",
      "Element Type :  int32\n"
     ]
    }
   ],
   "source": [
    "print(a)\n",
    "print(\"Dimension : \",a.ndim)\n",
    "print(\"Size : \",a.size)\n",
    "print(\"Element Type : \",a.dtype)"
   ]
  },
  {
   "cell_type": "code",
   "execution_count": 136,
   "metadata": {},
   "outputs": [
    {
     "data": {
      "text/plain": [
       "array([[3, 4, 5],\n",
       "       [6, 7, 8]])"
      ]
     },
     "execution_count": 136,
     "metadata": {},
     "output_type": "execute_result"
    }
   ],
   "source": [
    "# Create a 2-D Array\n",
    "a = np.array([[3,4,5],[6,7,8]])\n",
    "a"
   ]
  },
  {
   "cell_type": "code",
   "execution_count": 137,
   "metadata": {},
   "outputs": [
    {
     "name": "stdout",
     "output_type": "stream",
     "text": [
      "[[3 4 5]\n",
      " [6 7 8]]\n",
      "Dimension :  2\n",
      "Size :  6\n",
      "Element Type :  int32\n"
     ]
    }
   ],
   "source": [
    "print(a)\n",
    "print(\"Dimension : \",a.ndim)\n",
    "print(\"Size : \",a.size)\n",
    "print(\"Element Type : \",a.dtype)"
   ]
  },
  {
   "cell_type": "markdown",
   "metadata": {},
   "source": [
    "## Task: Create (2,3,2)\n",
    "- Reading it from right to left\n",
    "- The first digit (2) tells as that there should 2 elements in 1-Dimension\n",
    "- The second digit (3) tells as that there should 3 elements in 2-Dimension\n",
    "- The third digit (2) tells as that there should 2 elements in 3-Dimension\n",
    "\n",
    "- 1-D: [2,3]\n",
    "- 2-D: [[2,3],[4,5],[6,7]]\n",
    "- 3-D: [[[2,3],[4,5],[6,7]],[[2,3],[4,5],[6,7]]]\n"
   ]
  },
  {
   "cell_type": "code",
   "execution_count": 25,
   "metadata": {},
   "outputs": [],
   "source": [
    "a = np.array([[[2,3],[4,5],[6,7]],[[2,3],[4,5],[6,7]]])"
   ]
  },
  {
   "cell_type": "code",
   "execution_count": 26,
   "metadata": {},
   "outputs": [
    {
     "name": "stdout",
     "output_type": "stream",
     "text": [
      "[[[2 3]\n",
      "  [4 5]\n",
      "  [6 7]]\n",
      "\n",
      " [[2 3]\n",
      "  [4 5]\n",
      "  [6 7]]]\n",
      "Dimension :  3\n",
      "Size :  12\n",
      "Shape :  (2, 3, 2)\n",
      "Element Type :  int32\n"
     ]
    }
   ],
   "source": [
    "print(a)\n",
    "print(\"Dimension : \",a.ndim)\n",
    "print(\"Size : \",a.size)\n",
    "print(\"Shape : \",a.shape)\n",
    "print(\"Element Type : \",a.dtype)"
   ]
  },
  {
   "cell_type": "raw",
   "metadata": {},
   "source": [
    "Another way of doing it "
   ]
  },
  {
   "cell_type": "code",
   "execution_count": 29,
   "metadata": {},
   "outputs": [],
   "source": [
    "a = np.array([\n",
    "                [[2,3],\n",
    "                 [4,5],\n",
    "                 [6,7]],\n",
    "    \n",
    "                [[2,3],\n",
    "                 [4,5],\n",
    "                 [6,7]]\n",
    "    \n",
    "                ])"
   ]
  },
  {
   "cell_type": "markdown",
   "metadata": {},
   "source": [
    "## Arange"
   ]
  },
  {
   "cell_type": "code",
   "execution_count": 34,
   "metadata": {},
   "outputs": [
    {
     "data": {
      "text/plain": [
       "array([0, 1, 2, 3, 4, 5, 6, 7, 8, 9])"
      ]
     },
     "execution_count": 34,
     "metadata": {},
     "output_type": "execute_result"
    }
   ],
   "source": [
    "np.arange(10)"
   ]
  },
  {
   "cell_type": "code",
   "execution_count": 35,
   "metadata": {},
   "outputs": [
    {
     "data": {
      "text/plain": [
       "array([[ 0,  1,  2,  3,  4,  5],\n",
       "       [ 6,  7,  8,  9, 10, 11],\n",
       "       [12, 13, 14, 15, 16, 17],\n",
       "       [18, 19, 20, 21, 22, 23]])"
      ]
     },
     "execution_count": 35,
     "metadata": {},
     "output_type": "execute_result"
    }
   ],
   "source": [
    "np.arange(24).reshape(4,6)"
   ]
  },
  {
   "cell_type": "code",
   "execution_count": 36,
   "metadata": {},
   "outputs": [
    {
     "data": {
      "text/plain": [
       "array([10, 20, 30, 40, 50, 60, 70, 80, 90])"
      ]
     },
     "execution_count": 36,
     "metadata": {},
     "output_type": "execute_result"
    }
   ],
   "source": [
    "np.arange(10,100,10)"
   ]
  },
  {
   "cell_type": "code",
   "execution_count": 46,
   "metadata": {},
   "outputs": [
    {
     "data": {
      "text/plain": [
       "array([[0., 0.],\n",
       "       [0., 0.]])"
      ]
     },
     "execution_count": 46,
     "metadata": {},
     "output_type": "execute_result"
    }
   ],
   "source": [
    "np.zeros((2,2)) # Creates an array full of zeroes"
   ]
  },
  {
   "cell_type": "code",
   "execution_count": 49,
   "metadata": {},
   "outputs": [
    {
     "data": {
      "text/plain": [
       "array([10., 20., 30., 40., 50.])"
      ]
     },
     "execution_count": 49,
     "metadata": {},
     "output_type": "execute_result"
    }
   ],
   "source": [
    "np.linspace(10,50,5) #linspace(start,end,no.of elements)\n",
    "# Equally spaced sample data"
   ]
  },
  {
   "cell_type": "code",
   "execution_count": 52,
   "metadata": {},
   "outputs": [
    {
     "data": {
      "text/plain": [
       "array([ 1.,  7., 13., 19., 25.])"
      ]
     },
     "execution_count": 52,
     "metadata": {},
     "output_type": "execute_result"
    }
   ],
   "source": [
    "np.linspace(1,25,5)"
   ]
  },
  {
   "cell_type": "markdown",
   "metadata": {},
   "source": [
    "## Reshape"
   ]
  },
  {
   "cell_type": "code",
   "execution_count": 54,
   "metadata": {},
   "outputs": [
    {
     "data": {
      "text/plain": [
       "array([[[ 0,  1,  2,  3],\n",
       "        [ 4,  5,  6,  7],\n",
       "        [ 8,  9, 10, 11]],\n",
       "\n",
       "       [[12, 13, 14, 15],\n",
       "        [16, 17, 18, 19],\n",
       "        [20, 21, 22, 23]]])"
      ]
     },
     "execution_count": 54,
     "metadata": {},
     "output_type": "execute_result"
    }
   ],
   "source": [
    "np.arange(24).reshape(2,3,4)"
   ]
  },
  {
   "cell_type": "code",
   "execution_count": 55,
   "metadata": {},
   "outputs": [
    {
     "data": {
      "text/plain": [
       "array([[ 0,  1,  2,  3],\n",
       "       [ 4,  5,  6,  7],\n",
       "       [ 8,  9, 10, 11],\n",
       "       [12, 13, 14, 15]])"
      ]
     },
     "execution_count": 55,
     "metadata": {},
     "output_type": "execute_result"
    }
   ],
   "source": [
    "np.arange(16).reshape(4,4)"
   ]
  },
  {
   "cell_type": "markdown",
   "metadata": {},
   "source": [
    "## Create a six dimentional data with arange having 6 elements in 1-dimension"
   ]
  },
  {
   "cell_type": "code",
   "execution_count": 56,
   "metadata": {},
   "outputs": [
    {
     "data": {
      "text/plain": [
       "array([[[[[[  0,   1,   2,   3,   4,   5],\n",
       "           [  6,   7,   8,   9,  10,  11],\n",
       "           [ 12,  13,  14,  15,  16,  17],\n",
       "           [ 18,  19,  20,  21,  22,  23],\n",
       "           [ 24,  25,  26,  27,  28,  29]],\n",
       "\n",
       "          [[ 30,  31,  32,  33,  34,  35],\n",
       "           [ 36,  37,  38,  39,  40,  41],\n",
       "           [ 42,  43,  44,  45,  46,  47],\n",
       "           [ 48,  49,  50,  51,  52,  53],\n",
       "           [ 54,  55,  56,  57,  58,  59]],\n",
       "\n",
       "          [[ 60,  61,  62,  63,  64,  65],\n",
       "           [ 66,  67,  68,  69,  70,  71],\n",
       "           [ 72,  73,  74,  75,  76,  77],\n",
       "           [ 78,  79,  80,  81,  82,  83],\n",
       "           [ 84,  85,  86,  87,  88,  89]],\n",
       "\n",
       "          [[ 90,  91,  92,  93,  94,  95],\n",
       "           [ 96,  97,  98,  99, 100, 101],\n",
       "           [102, 103, 104, 105, 106, 107],\n",
       "           [108, 109, 110, 111, 112, 113],\n",
       "           [114, 115, 116, 117, 118, 119]]],\n",
       "\n",
       "\n",
       "         [[[120, 121, 122, 123, 124, 125],\n",
       "           [126, 127, 128, 129, 130, 131],\n",
       "           [132, 133, 134, 135, 136, 137],\n",
       "           [138, 139, 140, 141, 142, 143],\n",
       "           [144, 145, 146, 147, 148, 149]],\n",
       "\n",
       "          [[150, 151, 152, 153, 154, 155],\n",
       "           [156, 157, 158, 159, 160, 161],\n",
       "           [162, 163, 164, 165, 166, 167],\n",
       "           [168, 169, 170, 171, 172, 173],\n",
       "           [174, 175, 176, 177, 178, 179]],\n",
       "\n",
       "          [[180, 181, 182, 183, 184, 185],\n",
       "           [186, 187, 188, 189, 190, 191],\n",
       "           [192, 193, 194, 195, 196, 197],\n",
       "           [198, 199, 200, 201, 202, 203],\n",
       "           [204, 205, 206, 207, 208, 209]],\n",
       "\n",
       "          [[210, 211, 212, 213, 214, 215],\n",
       "           [216, 217, 218, 219, 220, 221],\n",
       "           [222, 223, 224, 225, 226, 227],\n",
       "           [228, 229, 230, 231, 232, 233],\n",
       "           [234, 235, 236, 237, 238, 239]]],\n",
       "\n",
       "\n",
       "         [[[240, 241, 242, 243, 244, 245],\n",
       "           [246, 247, 248, 249, 250, 251],\n",
       "           [252, 253, 254, 255, 256, 257],\n",
       "           [258, 259, 260, 261, 262, 263],\n",
       "           [264, 265, 266, 267, 268, 269]],\n",
       "\n",
       "          [[270, 271, 272, 273, 274, 275],\n",
       "           [276, 277, 278, 279, 280, 281],\n",
       "           [282, 283, 284, 285, 286, 287],\n",
       "           [288, 289, 290, 291, 292, 293],\n",
       "           [294, 295, 296, 297, 298, 299]],\n",
       "\n",
       "          [[300, 301, 302, 303, 304, 305],\n",
       "           [306, 307, 308, 309, 310, 311],\n",
       "           [312, 313, 314, 315, 316, 317],\n",
       "           [318, 319, 320, 321, 322, 323],\n",
       "           [324, 325, 326, 327, 328, 329]],\n",
       "\n",
       "          [[330, 331, 332, 333, 334, 335],\n",
       "           [336, 337, 338, 339, 340, 341],\n",
       "           [342, 343, 344, 345, 346, 347],\n",
       "           [348, 349, 350, 351, 352, 353],\n",
       "           [354, 355, 356, 357, 358, 359]]]],\n",
       "\n",
       "\n",
       "\n",
       "        [[[[360, 361, 362, 363, 364, 365],\n",
       "           [366, 367, 368, 369, 370, 371],\n",
       "           [372, 373, 374, 375, 376, 377],\n",
       "           [378, 379, 380, 381, 382, 383],\n",
       "           [384, 385, 386, 387, 388, 389]],\n",
       "\n",
       "          [[390, 391, 392, 393, 394, 395],\n",
       "           [396, 397, 398, 399, 400, 401],\n",
       "           [402, 403, 404, 405, 406, 407],\n",
       "           [408, 409, 410, 411, 412, 413],\n",
       "           [414, 415, 416, 417, 418, 419]],\n",
       "\n",
       "          [[420, 421, 422, 423, 424, 425],\n",
       "           [426, 427, 428, 429, 430, 431],\n",
       "           [432, 433, 434, 435, 436, 437],\n",
       "           [438, 439, 440, 441, 442, 443],\n",
       "           [444, 445, 446, 447, 448, 449]],\n",
       "\n",
       "          [[450, 451, 452, 453, 454, 455],\n",
       "           [456, 457, 458, 459, 460, 461],\n",
       "           [462, 463, 464, 465, 466, 467],\n",
       "           [468, 469, 470, 471, 472, 473],\n",
       "           [474, 475, 476, 477, 478, 479]]],\n",
       "\n",
       "\n",
       "         [[[480, 481, 482, 483, 484, 485],\n",
       "           [486, 487, 488, 489, 490, 491],\n",
       "           [492, 493, 494, 495, 496, 497],\n",
       "           [498, 499, 500, 501, 502, 503],\n",
       "           [504, 505, 506, 507, 508, 509]],\n",
       "\n",
       "          [[510, 511, 512, 513, 514, 515],\n",
       "           [516, 517, 518, 519, 520, 521],\n",
       "           [522, 523, 524, 525, 526, 527],\n",
       "           [528, 529, 530, 531, 532, 533],\n",
       "           [534, 535, 536, 537, 538, 539]],\n",
       "\n",
       "          [[540, 541, 542, 543, 544, 545],\n",
       "           [546, 547, 548, 549, 550, 551],\n",
       "           [552, 553, 554, 555, 556, 557],\n",
       "           [558, 559, 560, 561, 562, 563],\n",
       "           [564, 565, 566, 567, 568, 569]],\n",
       "\n",
       "          [[570, 571, 572, 573, 574, 575],\n",
       "           [576, 577, 578, 579, 580, 581],\n",
       "           [582, 583, 584, 585, 586, 587],\n",
       "           [588, 589, 590, 591, 592, 593],\n",
       "           [594, 595, 596, 597, 598, 599]]],\n",
       "\n",
       "\n",
       "         [[[600, 601, 602, 603, 604, 605],\n",
       "           [606, 607, 608, 609, 610, 611],\n",
       "           [612, 613, 614, 615, 616, 617],\n",
       "           [618, 619, 620, 621, 622, 623],\n",
       "           [624, 625, 626, 627, 628, 629]],\n",
       "\n",
       "          [[630, 631, 632, 633, 634, 635],\n",
       "           [636, 637, 638, 639, 640, 641],\n",
       "           [642, 643, 644, 645, 646, 647],\n",
       "           [648, 649, 650, 651, 652, 653],\n",
       "           [654, 655, 656, 657, 658, 659]],\n",
       "\n",
       "          [[660, 661, 662, 663, 664, 665],\n",
       "           [666, 667, 668, 669, 670, 671],\n",
       "           [672, 673, 674, 675, 676, 677],\n",
       "           [678, 679, 680, 681, 682, 683],\n",
       "           [684, 685, 686, 687, 688, 689]],\n",
       "\n",
       "          [[690, 691, 692, 693, 694, 695],\n",
       "           [696, 697, 698, 699, 700, 701],\n",
       "           [702, 703, 704, 705, 706, 707],\n",
       "           [708, 709, 710, 711, 712, 713],\n",
       "           [714, 715, 716, 717, 718, 719]]]]]])"
      ]
     },
     "execution_count": 56,
     "metadata": {},
     "output_type": "execute_result"
    }
   ],
   "source": [
    "np.arange(720).reshape(1,2,3,4,5,6)"
   ]
  },
  {
   "cell_type": "code",
   "execution_count": 63,
   "metadata": {},
   "outputs": [
    {
     "data": {
      "text/plain": [
       "array([[[[[[0, 1, 2, 3, 4, 5]]]]]])"
      ]
     },
     "execution_count": 63,
     "metadata": {},
     "output_type": "execute_result"
    }
   ],
   "source": [
    "d = np.arange(6).reshape(1,1,1,1,1,6)\n",
    "d"
   ]
  },
  {
   "cell_type": "markdown",
   "metadata": {},
   "source": [
    "# Ravel"
   ]
  },
  {
   "cell_type": "code",
   "execution_count": 64,
   "metadata": {},
   "outputs": [
    {
     "data": {
      "text/plain": [
       "array([0, 1, 2, 3, 4, 5])"
      ]
     },
     "execution_count": 64,
     "metadata": {},
     "output_type": "execute_result"
    }
   ],
   "source": [
    "d.ravel()"
   ]
  },
  {
   "cell_type": "markdown",
   "metadata": {},
   "source": [
    "## Random Numbers"
   ]
  },
  {
   "cell_type": "code",
   "execution_count": 72,
   "metadata": {},
   "outputs": [
    {
     "data": {
      "text/plain": [
       "52.79070791311403"
      ]
     },
     "execution_count": 72,
     "metadata": {},
     "output_type": "execute_result"
    }
   ],
   "source": [
    "np.random.rand()*100"
   ]
  },
  {
   "cell_type": "code",
   "execution_count": 75,
   "metadata": {},
   "outputs": [
    {
     "data": {
      "text/plain": [
       "91"
      ]
     },
     "execution_count": 75,
     "metadata": {},
     "output_type": "execute_result"
    }
   ],
   "source": [
    "int(np.random.rand()*100)"
   ]
  },
  {
   "cell_type": "code",
   "execution_count": 3,
   "metadata": {},
   "outputs": [
    {
     "data": {
      "text/plain": [
       "array([0.00976184, 0.31091601, 0.55021368, 0.828186  , 0.99124151])"
      ]
     },
     "execution_count": 3,
     "metadata": {},
     "output_type": "execute_result"
    }
   ],
   "source": [
    "np.random.rand(5)"
   ]
  },
  {
   "cell_type": "code",
   "execution_count": 4,
   "metadata": {},
   "outputs": [
    {
     "data": {
      "text/plain": [
       "35"
      ]
     },
     "execution_count": 4,
     "metadata": {},
     "output_type": "execute_result"
    }
   ],
   "source": [
    "np.random.randint(35,100)"
   ]
  },
  {
   "cell_type": "code",
   "execution_count": 81,
   "metadata": {},
   "outputs": [
    {
     "data": {
      "text/plain": [
       "array([[36, 47, 40, 55, 84, 59, 82, 49, 96, 95],\n",
       "       [42, 92, 88, 45, 66, 64, 88, 44, 77, 91],\n",
       "       [69, 73, 72, 65, 72, 75, 75, 36, 89, 65],\n",
       "       [62, 45, 37, 90, 65, 66, 46, 47, 86, 66],\n",
       "       [69, 99, 47, 56, 40, 82, 55, 55, 63, 79]])"
      ]
     },
     "execution_count": 81,
     "metadata": {},
     "output_type": "execute_result"
    }
   ],
   "source": [
    "np.random.randint(35,100,50).reshape(5,10)"
   ]
  },
  {
   "cell_type": "code",
   "execution_count": 82,
   "metadata": {},
   "outputs": [
    {
     "data": {
      "text/plain": [
       "array([[4096, 6241, 5776, 5625, 7396, 5184, 7744, 8836, 3136, 5929],\n",
       "       [9801, 8464, 9801, 9604, 6084, 4900, 1936, 5476, 6724, 3364],\n",
       "       [8836, 1444, 1444, 6724, 1849, 7225, 1369, 9409, 3481, 9604],\n",
       "       [7744, 4096, 1681, 2704, 2809, 2116, 2916, 7744, 4225, 3844],\n",
       "       [1600, 5184, 4489, 1521, 5041, 2025, 8836, 7744, 3721, 1296]],\n",
       "      dtype=int32)"
      ]
     },
     "execution_count": 82,
     "metadata": {},
     "output_type": "execute_result"
    }
   ],
   "source": [
    "(np.random.randint(35,100,50).reshape(5,10))**2"
   ]
  },
  {
   "cell_type": "code",
   "execution_count": 83,
   "metadata": {},
   "outputs": [
    {
     "data": {
      "text/plain": [
       "array([[7.68114575, 9.16515139, 7.07106781, 9.21954446, 9.05538514,\n",
       "        7.68114575, 7.74596669, 9.38083152, 7.87400787, 7.28010989],\n",
       "       [9.48683298, 9.        , 8.42614977, 7.41619849, 6.78232998,\n",
       "        6.        , 6.70820393, 7.41619849, 6.55743852, 7.14142843],\n",
       "       [9.32737905, 6.55743852, 9.        , 8.60232527, 9.74679434,\n",
       "        9.48683298, 6.08276253, 6.63324958, 5.91607978, 8.24621125],\n",
       "       [9.2736185 , 8.60232527, 7.87400787, 6.08276253, 7.48331477,\n",
       "        8.42614977, 8.24621125, 8.83176087, 9.43398113, 8.06225775],\n",
       "       [8.94427191, 7.68114575, 7.54983444, 7.07106781, 8.36660027,\n",
       "        6.63324958, 7.14142843, 7.41619849, 7.41619849, 5.91607978]])"
      ]
     },
     "execution_count": 83,
     "metadata": {},
     "output_type": "execute_result"
    }
   ],
   "source": [
    "np.sqrt(np.random.randint(35,100,50).reshape(5,10))"
   ]
  },
  {
   "cell_type": "code",
   "execution_count": 84,
   "metadata": {},
   "outputs": [
    {
     "data": {
      "text/plain": [
       "array([[929, 431, 228, ..., 333, 785, 377],\n",
       "       [390, 362, 537, ..., 683, 256, 409],\n",
       "       [303, 695,  42, ..., 589, 296, 859],\n",
       "       ...,\n",
       "       [332, 504, 383, ..., 887, 444, 944],\n",
       "       [ 84, 903, 724, ..., 734, 366, 581],\n",
       "       [367, 562, 445, ..., 503, 564, 534]])"
      ]
     },
     "execution_count": 84,
     "metadata": {},
     "output_type": "execute_result"
    }
   ],
   "source": [
    "np.random.randint(0,1000,1000000).reshape(1000,1000)"
   ]
  },
  {
   "cell_type": "code",
   "execution_count": 86,
   "metadata": {},
   "outputs": [
    {
     "data": {
      "text/plain": [
       "array([[17.        , 25.33771892, 14.49137675, ..., 20.49390153,\n",
       "        20.14944168, 10.72380529],\n",
       "       [25.59296778,  3.16227766, 26.13426869, ..., 13.45362405,\n",
       "        24.2693222 , 20.51828453],\n",
       "       [23.21637353, 31.        , 26.32489316, ..., 10.95445115,\n",
       "        22.75961335, 24.08318916],\n",
       "       ...,\n",
       "       [27.49545417, 28.74021573, 17.8325545 , ..., 12.84523258,\n",
       "        24.49489743,  9.64365076],\n",
       "       [ 9.94987437, 23.85372088, 25.3968502 , ..., 27.60434748,\n",
       "        31.27299154, 29.49576241],\n",
       "       [21.21320344, 17.49285568, 29.52964612, ..., 14.35270009,\n",
       "        31.01612484, 30.82207001]])"
      ]
     },
     "execution_count": 86,
     "metadata": {},
     "output_type": "execute_result"
    }
   ],
   "source": [
    "np.sqrt(np.random.randint(0,1000,1000000).reshape(1000,1000))"
   ]
  },
  {
   "cell_type": "code",
   "execution_count": 87,
   "metadata": {},
   "outputs": [
    {
     "data": {
      "text/plain": [
       "5.0"
      ]
     },
     "execution_count": 87,
     "metadata": {},
     "output_type": "execute_result"
    }
   ],
   "source": [
    "np.round(4.6)"
   ]
  },
  {
   "cell_type": "code",
   "execution_count": 88,
   "metadata": {},
   "outputs": [
    {
     "data": {
      "text/plain": [
       "4.0"
      ]
     },
     "execution_count": 88,
     "metadata": {},
     "output_type": "execute_result"
    }
   ],
   "source": [
    "np.floor(4.6)"
   ]
  },
  {
   "cell_type": "code",
   "execution_count": 91,
   "metadata": {},
   "outputs": [
    {
     "data": {
      "text/plain": [
       "5.0"
      ]
     },
     "execution_count": 91,
     "metadata": {},
     "output_type": "execute_result"
    }
   ],
   "source": [
    "np.ceil(4.1)"
   ]
  },
  {
   "cell_type": "code",
   "execution_count": 92,
   "metadata": {},
   "outputs": [
    {
     "data": {
      "text/plain": [
       "2.0"
      ]
     },
     "execution_count": 92,
     "metadata": {},
     "output_type": "execute_result"
    }
   ],
   "source": [
    "np.log10(100)"
   ]
  },
  {
   "cell_type": "markdown",
   "metadata": {},
   "source": [
    "## Horizontal and Vertical Split & Horizontal and Vertical Stack"
   ]
  },
  {
   "cell_type": "markdown",
   "metadata": {},
   "source": [
    "### Horizontal and Vertical Split"
   ]
  },
  {
   "cell_type": "code",
   "execution_count": 95,
   "metadata": {},
   "outputs": [
    {
     "data": {
      "text/plain": [
       "array([[ 0,  1,  2,  3,  4,  5],\n",
       "       [ 6,  7,  8,  9, 10, 11],\n",
       "       [12, 13, 14, 15, 16, 17],\n",
       "       [18, 19, 20, 21, 22, 23]])"
      ]
     },
     "execution_count": 95,
     "metadata": {},
     "output_type": "execute_result"
    }
   ],
   "source": [
    "a = np.arange(24).reshape(4,6)\n",
    "a"
   ]
  },
  {
   "cell_type": "code",
   "execution_count": 96,
   "metadata": {},
   "outputs": [
    {
     "data": {
      "text/plain": [
       "[array([[ 0,  1,  2],\n",
       "        [ 6,  7,  8],\n",
       "        [12, 13, 14],\n",
       "        [18, 19, 20]]), array([[ 3,  4,  5],\n",
       "        [ 9, 10, 11],\n",
       "        [15, 16, 17],\n",
       "        [21, 22, 23]])]"
      ]
     },
     "execution_count": 96,
     "metadata": {},
     "output_type": "execute_result"
    }
   ],
   "source": [
    "np.hsplit(a,2)"
   ]
  },
  {
   "cell_type": "code",
   "execution_count": 97,
   "metadata": {},
   "outputs": [
    {
     "name": "stdout",
     "output_type": "stream",
     "text": [
      "[[ 0  1  2  3  4  5]\n",
      " [ 6  7  8  9 10 11]\n",
      " [12 13 14 15 16 17]\n",
      " [18 19 20 21 22 23]]\n"
     ]
    }
   ],
   "source": [
    "print(a)"
   ]
  },
  {
   "cell_type": "code",
   "execution_count": 99,
   "metadata": {},
   "outputs": [
    {
     "name": "stdout",
     "output_type": "stream",
     "text": [
      "[[ 0  1  2]\n",
      " [ 6  7  8]\n",
      " [12 13 14]\n",
      " [18 19 20]]\n"
     ]
    }
   ],
   "source": [
    "print(np.hsplit(a,2)[0])"
   ]
  },
  {
   "cell_type": "code",
   "execution_count": 100,
   "metadata": {},
   "outputs": [
    {
     "data": {
      "text/plain": [
       "[array([[ 0,  1,  2,  3,  4,  5],\n",
       "        [ 6,  7,  8,  9, 10, 11]]), array([[12, 13, 14, 15, 16, 17],\n",
       "        [18, 19, 20, 21, 22, 23]])]"
      ]
     },
     "execution_count": 100,
     "metadata": {},
     "output_type": "execute_result"
    }
   ],
   "source": [
    "np.vsplit(a,2)"
   ]
  },
  {
   "cell_type": "code",
   "execution_count": 101,
   "metadata": {},
   "outputs": [
    {
     "name": "stdout",
     "output_type": "stream",
     "text": [
      "[[ 0  1  2  3  4  5]\n",
      " [ 6  7  8  9 10 11]]\n"
     ]
    }
   ],
   "source": [
    "print(np.vsplit(a,2)[0])"
   ]
  },
  {
   "cell_type": "markdown",
   "metadata": {},
   "source": [
    "### Horizontal and Vertical Stack"
   ]
  },
  {
   "cell_type": "code",
   "execution_count": 108,
   "metadata": {},
   "outputs": [
    {
     "name": "stdout",
     "output_type": "stream",
     "text": [
      "[[0 1 2]\n",
      " [3 4 5]\n",
      " [6 7 8]]\n",
      "[[ 9 10 11]\n",
      " [12 13 14]\n",
      " [15 16 17]]\n"
     ]
    }
   ],
   "source": [
    "a = np.arange(9).reshape(3,3)\n",
    "b = np.arange(9,18).reshape(3,3)\n",
    "print(a)\n",
    "print(b)"
   ]
  },
  {
   "cell_type": "code",
   "execution_count": 109,
   "metadata": {},
   "outputs": [
    {
     "data": {
      "text/plain": [
       "array([[ 0,  1,  2,  9, 10, 11],\n",
       "       [ 3,  4,  5, 12, 13, 14],\n",
       "       [ 6,  7,  8, 15, 16, 17]])"
      ]
     },
     "execution_count": 109,
     "metadata": {},
     "output_type": "execute_result"
    }
   ],
   "source": [
    "np.hstack((a,b))"
   ]
  },
  {
   "cell_type": "code",
   "execution_count": 110,
   "metadata": {},
   "outputs": [
    {
     "data": {
      "text/plain": [
       "array([[ 0,  1,  2],\n",
       "       [ 3,  4,  5],\n",
       "       [ 6,  7,  8],\n",
       "       [ 9, 10, 11],\n",
       "       [12, 13, 14],\n",
       "       [15, 16, 17]])"
      ]
     },
     "execution_count": 110,
     "metadata": {},
     "output_type": "execute_result"
    }
   ],
   "source": [
    "np.vstack((a,b))"
   ]
  },
  {
   "cell_type": "markdown",
   "metadata": {},
   "source": [
    "## Q: ADD two integers in an array and typecast it to float"
   ]
  },
  {
   "cell_type": "code",
   "execution_count": 113,
   "metadata": {},
   "outputs": [
    {
     "data": {
      "text/plain": [
       "array([[6, 4],\n",
       "       [9, 5]])"
      ]
     },
     "execution_count": 113,
     "metadata": {},
     "output_type": "execute_result"
    }
   ],
   "source": [
    "a = np.random.randint(1,10,4).reshape(2,2)\n",
    "a"
   ]
  },
  {
   "cell_type": "code",
   "execution_count": 114,
   "metadata": {},
   "outputs": [
    {
     "data": {
      "text/plain": [
       "array([[6, 8],\n",
       "       [2, 1]])"
      ]
     },
     "execution_count": 114,
     "metadata": {},
     "output_type": "execute_result"
    }
   ],
   "source": [
    "b = np.random.randint(1,10,4).reshape(2,2)\n",
    "b"
   ]
  },
  {
   "cell_type": "code",
   "execution_count": 127,
   "metadata": {},
   "outputs": [
    {
     "data": {
      "text/plain": [
       "array([[12, 12],\n",
       "       [11,  6]])"
      ]
     },
     "execution_count": 127,
     "metadata": {},
     "output_type": "execute_result"
    }
   ],
   "source": [
    "c = a+b\n",
    "c"
   ]
  },
  {
   "cell_type": "code",
   "execution_count": 126,
   "metadata": {},
   "outputs": [
    {
     "name": "stdout",
     "output_type": "stream",
     "text": [
      "[[12. 12.]\n",
      " [11.  6.]]\n"
     ]
    }
   ],
   "source": [
    "print(c.astype(float))"
   ]
  },
  {
   "cell_type": "code",
   "execution_count": 128,
   "metadata": {},
   "outputs": [
    {
     "data": {
      "text/plain": [
       "[array([[6],\n",
       "        [9]]), array([[4],\n",
       "        [5]])]"
      ]
     },
     "execution_count": 128,
     "metadata": {},
     "output_type": "execute_result"
    }
   ],
   "source": [
    "np.hsplit(a,2)"
   ]
  },
  {
   "cell_type": "code",
   "execution_count": 130,
   "metadata": {},
   "outputs": [
    {
     "name": "stdout",
     "output_type": "stream",
     "text": [
      "[[12]\n",
      " [18]]\n"
     ]
    }
   ],
   "source": [
    "print((np.hsplit(a,2)[0])+(np.hsplit(a,2)[0]))"
   ]
  },
  {
   "cell_type": "code",
   "execution_count": 134,
   "metadata": {},
   "outputs": [
    {
     "name": "stdout",
     "output_type": "stream",
     "text": [
      "[ 9. 17.]\n"
     ]
    },
    {
     "data": {
      "text/plain": [
       "dtype('float64')"
      ]
     },
     "execution_count": 134,
     "metadata": {},
     "output_type": "execute_result"
    }
   ],
   "source": [
    "x = np.array([4+5,8+9],dtype='float')\n",
    "print(x)\n",
    "x.dtype"
   ]
  },
  {
   "cell_type": "code",
   "execution_count": null,
   "metadata": {},
   "outputs": [],
   "source": []
  }
 ],
 "metadata": {
  "kernelspec": {
   "display_name": "Python 3",
   "language": "python",
   "name": "python3"
  },
  "language_info": {
   "codemirror_mode": {
    "name": "ipython",
    "version": 3
   },
   "file_extension": ".py",
   "mimetype": "text/x-python",
   "name": "python",
   "nbconvert_exporter": "python",
   "pygments_lexer": "ipython3",
   "version": "3.7.4"
  }
 },
 "nbformat": 4,
 "nbformat_minor": 2
}
