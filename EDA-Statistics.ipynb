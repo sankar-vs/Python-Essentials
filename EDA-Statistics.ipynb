{
 "cells": [
  {
   "cell_type": "markdown",
   "metadata": {},
   "source": [
    "## Example "
   ]
  },
  {
   "cell_type": "markdown",
   "metadata": {},
   "source": [
    "## Class-6"
   ]
  },
  {
   "cell_type": "code",
   "execution_count": 3,
   "metadata": {},
   "outputs": [],
   "source": [
    "org_a=[100,50,70,150,60,40,60,80,90]\n",
    "org_b=[110,60,90,145,90,30,90,70,80]"
   ]
  },
  {
   "cell_type": "markdown",
   "metadata": {},
   "source": [
    "## Measures of central tendencies\n",
    "Mean, Merdidian and Mode"
   ]
  },
  {
   "cell_type": "code",
   "execution_count": 4,
   "metadata": {},
   "outputs": [
    {
     "name": "stdout",
     "output_type": "stream",
     "text": [
      "Mean Salary of Org a : 77.77777777777777\n",
      "Mean Salary of Org b : 85.0\n"
     ]
    }
   ],
   "source": [
    "import scipy as sp\n",
    "print(\"Mean Salary of Org a :\", sp.mean(org_a))\n",
    "print(\"Mean Salary of Org b :\", sp.mean(org_b))"
   ]
  },
  {
   "cell_type": "code",
   "execution_count": 5,
   "metadata": {},
   "outputs": [
    {
     "name": "stdout",
     "output_type": "stream",
     "text": [
      "Mean Salary of Org a : 170.0\n",
      "Mean Salary of Org b : 85.0\n"
     ]
    }
   ],
   "source": [
    "org_a=[100,50,70,150,60,40,60,80,90,1000]\n",
    "org_b=[110,60,90,145,90,30,90,70,80]\n",
    "print(\"Mean Salary of Org a :\", sp.mean(org_a))\n",
    "print(\"Mean Salary of Org b :\", sp.mean(org_b))\n",
    "# Mean is not recommended when we there are extreme values in data"
   ]
  },
  {
   "cell_type": "code",
   "execution_count": 6,
   "metadata": {},
   "outputs": [
    {
     "name": "stdout",
     "output_type": "stream",
     "text": [
      "Mean Salary of Org a : 75.0\n",
      "Mean Salary of Org b : 90.0\n"
     ]
    }
   ],
   "source": [
    "org_a=[100,50,70,150,60,40,60,80,90,1000]\n",
    "org_b=[110,60,90,145,90,30,90,70,80]\n",
    "print(\"Mean Salary of Org a :\", sp.median(org_a))\n",
    "print(\"Mean Salary of Org b :\", sp.median(org_b))\n",
    "# Mean is recommended when we there are extreme values in data"
   ]
  },
  {
   "cell_type": "markdown",
   "metadata": {},
   "source": [
    "Org A median is 75, means half of the employees are getting below 75 other half is getting above 75\n",
    "By observation, mean is 170 and 75, Org A has extreme value on the higher side."
   ]
  },
  {
   "cell_type": "code",
   "execution_count": 8,
   "metadata": {},
   "outputs": [
    {
     "name": "stdout",
     "output_type": "stream",
     "text": [
      "Mean Salary of Org a : ModeResult(mode=array([60]), count=array([2]))\n",
      "Mean Salary of Org b : ModeResult(mode=array([90]), count=array([3]))\n"
     ]
    }
   ],
   "source": [
    "from scipy import stats\n",
    "print(\"Mean Salary of Org a :\", stats.mode(org_a))\n",
    "print(\"Mean Salary of Org b :\", stats.mode(org_b))"
   ]
  },
  {
   "cell_type": "markdown",
   "metadata": {},
   "source": [
    "# Data Variability\n",
    "Also called as Measures of Variabltity"
   ]
  },
  {
   "cell_type": "code",
   "execution_count": 10,
   "metadata": {},
   "outputs": [
    {
     "name": "stdout",
     "output_type": "stream",
     "text": [
      "Mean of Train A delay: 15.0\n",
      "Mean of Train B delay: 15.0\n"
     ]
    }
   ],
   "source": [
    "train_a = [12,13,18,15,17]\n",
    "train_b = [2,28,5,15,25]\n",
    "print(\"Mean of Train A delay:\", sp.mean(train_a))\n",
    "print(\"Mean of Train B delay:\", sp.mean(train_b))"
   ]
  },
  {
   "cell_type": "code",
   "execution_count": 11,
   "metadata": {},
   "outputs": [
    {
     "name": "stdout",
     "output_type": "stream",
     "text": [
      "Mean of Train A delay: 15.0\n",
      "Mean of Train B delay: 15.0\n"
     ]
    }
   ],
   "source": [
    "train_a = [12,13,18,15,17]\n",
    "train_b = [2,28,5,15,25]\n",
    "print(\"Median of Train A delay:\", sp.median(train_a))\n",
    "print(\"Median of Train B delay:\", sp.median(train_b))"
   ]
  },
  {
   "cell_type": "code",
   "execution_count": 13,
   "metadata": {},
   "outputs": [
    {
     "name": "stdout",
     "output_type": "stream",
     "text": [
      "Range of Train a: 6\n",
      "Range of Train a: 26\n"
     ]
    }
   ],
   "source": [
    "# Range\n",
    "print(\"Range of Train a:\", max(train_a) - min(train_a))\n",
    "print(\"Range of Train a:\", max(train_b) - min(train_b))"
   ]
  },
  {
   "cell_type": "markdown",
   "metadata": {},
   "source": [
    "- Usually minimum range is accepted to be better.\n",
    "- But still it is not recommended when data has extreme values\n",
    "- Standard Deviation is the Measure of deviation in the data"
   ]
  },
  {
   "cell_type": "code",
   "execution_count": 14,
   "metadata": {},
   "outputs": [
    {
     "name": "stdout",
     "output_type": "stream",
     "text": [
      "Standard Deviation of Train a: 2.280350850198276\n",
      "Standard Deviation of Train a: 10.373041983911952\n"
     ]
    }
   ],
   "source": [
    "# Standard Deviation\n",
    "print(\"Standard Deviation of Train a:\", sp.std(train_a))\n",
    "print(\"Standard Deviation of Train b:\", sp.std(train_b))"
   ]
  },
  {
   "cell_type": "markdown",
   "metadata": {},
   "source": [
    "- Train A has less std dev, 2.2 means, which indicated it has data close to he mean.\n",
    "- Therefore, train A is consistant"
   ]
  },
  {
   "cell_type": "code",
   "execution_count": 20,
   "metadata": {},
   "outputs": [
    {
     "name": "stdout",
     "output_type": "stream",
     "text": [
      "Variance of Train a: 5.2\n",
      "Variance of Train b: 107.6\n"
     ]
    }
   ],
   "source": [
    "# Variance\n",
    "print(\"Variance of Train a:\",sp.var(train_a))\n",
    "print(\"Variance of Train b:\",sp.var(train_b))"
   ]
  },
  {
   "cell_type": "code",
   "execution_count": 24,
   "metadata": {},
   "outputs": [
    {
     "name": "stdout",
     "output_type": "stream",
     "text": [
      "Skewness : 0.012779704020146969\n"
     ]
    },
    {
     "data": {
      "image/png": "[encoded data removed]",
      "text/plain": [
       "<Figure size 432x288 with 1 Axes>"
      ]
     },
     "metadata": {
      "needs_background": "light"
     },
     "output_type": "display_data"
    }
   ],
   "source": [
    "# Skewness\n",
    "%matplotlib inline\n",
    "import seaborn as sb\n",
    "bp = [110,60,90,145,90,30,90,70,80,100,70,120]\n",
    "sb.distplot(bp);\n",
    "print(\"Skewness :\", stats.skew(bp))"
   ]
  },
  {
   "cell_type": "markdown",
   "metadata": {},
   "source": [
    "Create distribution with S>1"
   ]
  },
  {
   "cell_type": "code",
   "execution_count": 44,
   "metadata": {},
   "outputs": [
    {
     "name": "stdout",
     "output_type": "stream",
     "text": [
      "Skewness : 1.0464827930950122\n"
     ]
    },
    {
     "data": {
      "image/png": "[encoded data removed]",
      "text/plain": [
       "<Figure size 432x288 with 1 Axes>"
      ]
     },
     "metadata": {
      "needs_background": "light"
     },
     "output_type": "display_data"
    }
   ],
   "source": [
    "bp = [60,70,80,100,110,90,150,70,50,80,80,120,180]\n",
    "sb.distplot(bp);\n",
    "print(\"Skewness :\", stats.skew(bp))"
   ]
  },
  {
   "cell_type": "code",
   "execution_count": 45,
   "metadata": {},
   "outputs": [
    {
     "name": "stdout",
     "output_type": "stream",
     "text": [
      "Skewness : 1.0464827930950122\n",
      "Kurtosis : 0.2876525355749773\n"
     ]
    },
    {
     "data": {
      "image/png": "[encoded data removed]",
      "text/plain": [
       "<Figure size 432x288 with 1 Axes>"
      ]
     },
     "metadata": {
      "needs_background": "light"
     },
     "output_type": "display_data"
    }
   ],
   "source": [
    "#KUTOSIS\n",
    "print(\"Skewness :\", stats.skew(bp))\n",
    "print(\"Kurtosis :\", stats.kurtosis(bp))\n",
    "sb.distplot(bp);"
   ]
  },
  {
   "cell_type": "raw",
   "metadata": {},
   "source": [
    "Formal normal distribution both Skewness and Kurtosis (Normality Testing) shoulb be between -1 and +1"
   ]
  },
  {
   "cell_type": "code",
   "execution_count": null,
   "metadata": {},
   "outputs": [],
   "source": []
  }
 ],
 "metadata": {
  "kernelspec": {
   "display_name": "Python 3",
   "language": "python",
   "name": "python3"
  },
  "language_info": {
   "codemirror_mode": {
    "name": "ipython",
    "version": 3
   },
   "file_extension": ".py",
   "mimetype": "text/x-python",
   "name": "python",
   "nbconvert_exporter": "python",
   "pygments_lexer": "ipython3",
   "version": "3.7.4"
  }
 },
 "nbformat": 4,
 "nbformat_minor": 2
}
